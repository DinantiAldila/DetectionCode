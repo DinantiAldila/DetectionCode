{
  "nbformat": 4,
  "nbformat_minor": 0,
  "metadata": {
    "colab": {
      "provenance": [],
      "gpuType": "T4"
    },
    "kernelspec": {
      "name": "python3",
      "display_name": "Python 3"
    },
    "language_info": {
      "name": "python"
    },
    "accelerator": "GPU"
  },
  "cells": [
    {
      "cell_type": "markdown",
      "source": [
        "# **Import Library**"
      ],
      "metadata": {
        "id": "C5lywfCK_sjx"
      }
    },
    {
      "cell_type": "code",
      "execution_count": null,
      "metadata": {
        "id": "mz4gsxei_n7n",
        "colab": {
          "base_uri": "https://localhost:8080/"
        },
        "outputId": "3b96b5d6-8464-403e-dcf1-e7b7027077e6"
      },
      "outputs": [
        {
          "output_type": "stream",
          "name": "stdout",
          "text": [
            "Collecting keras-nightly\n",
            "  Downloading keras_nightly-3.10.0.dev2025052003-py3-none-any.whl.metadata (6.0 kB)\n",
            "Requirement already satisfied: absl-py in /usr/local/lib/python3.11/dist-packages (from keras-nightly) (1.4.0)\n",
            "Requirement already satisfied: numpy in /usr/local/lib/python3.11/dist-packages (from keras-nightly) (2.0.2)\n",
            "Requirement already satisfied: rich in /usr/local/lib/python3.11/dist-packages (from keras-nightly) (13.9.4)\n",
            "Requirement already satisfied: namex in /usr/local/lib/python3.11/dist-packages (from keras-nightly) (0.0.9)\n",
            "Requirement already satisfied: h5py in /usr/local/lib/python3.11/dist-packages (from keras-nightly) (3.13.0)\n",
            "Requirement already satisfied: optree in /usr/local/lib/python3.11/dist-packages (from keras-nightly) (0.15.0)\n",
            "Requirement already satisfied: ml-dtypes in /usr/local/lib/python3.11/dist-packages (from keras-nightly) (0.4.1)\n",
            "Requirement already satisfied: packaging in /usr/local/lib/python3.11/dist-packages (from keras-nightly) (24.2)\n",
            "Requirement already satisfied: typing-extensions>=4.5.0 in /usr/local/lib/python3.11/dist-packages (from optree->keras-nightly) (4.13.2)\n",
            "Requirement already satisfied: markdown-it-py>=2.2.0 in /usr/local/lib/python3.11/dist-packages (from rich->keras-nightly) (3.0.0)\n",
            "Requirement already satisfied: pygments<3.0.0,>=2.13.0 in /usr/local/lib/python3.11/dist-packages (from rich->keras-nightly) (2.19.1)\n",
            "Requirement already satisfied: mdurl~=0.1 in /usr/local/lib/python3.11/dist-packages (from markdown-it-py>=2.2.0->rich->keras-nightly) (0.1.2)\n",
            "Downloading keras_nightly-3.10.0.dev2025052003-py3-none-any.whl (1.4 MB)\n",
            "\u001b[?25l   \u001b[90m━━━━━━━━━━━━━━━━━━━━━━━━━━━━━━━━━━━━━━━━\u001b[0m \u001b[32m0.0/1.4 MB\u001b[0m \u001b[31m?\u001b[0m eta \u001b[36m-:--:--\u001b[0m\r\u001b[2K   \u001b[91m━━━━━━━━━━━━━━━━━\u001b[0m\u001b[90m╺\u001b[0m\u001b[90m━━━━━━━━━━━━━━━━━━━━━━\u001b[0m \u001b[32m0.6/1.4 MB\u001b[0m \u001b[31m17.8 MB/s\u001b[0m eta \u001b[36m0:00:01\u001b[0m\r\u001b[2K   \u001b[90m━━━━━━━━━━━━━━━━━━━━━━━━━━━━━━━━━━━━━━━━\u001b[0m \u001b[32m1.4/1.4 MB\u001b[0m \u001b[31m24.2 MB/s\u001b[0m eta \u001b[36m0:00:00\u001b[0m\n",
            "\u001b[?25hInstalling collected packages: keras-nightly\n",
            "Successfully installed keras-nightly-3.10.0.dev2025052003\n"
          ]
        }
      ],
      "source": [
        "!pip install keras-nightly\n",
        "import keras"
      ]
    },
    {
      "cell_type": "code",
      "source": [
        "import pandas as pd\n",
        "import os\n",
        "import requests\n",
        "from zipfile import ZipFile\n",
        "import matplotlib.pyplot as plt\n",
        "import seaborn as sns\n",
        "\n",
        "import numpy as np\n",
        "from sklearn.model_selection import train_test_split\n",
        "from sklearn.preprocessing import LabelEncoder, MinMaxScaler\n",
        "from keras.models import Sequential\n",
        "from keras.layers import Conv3D, GlobalAveragePooling3D, Dense\n",
        "from keras.layers import LSTM\n",
        "\n",
        "from sklearn.datasets import make_blobs\n",
        "from sklearn.metrics import accuracy_score\n",
        "from keras.models import load_model\n",
        "from keras.utils import to_categorical, plot_model\n",
        "from keras.models import Model\n",
        "from keras.layers import Input, concatenate\n",
        "from numpy import argmax"
      ],
      "metadata": {
        "id": "GlJBgv4x_wcb"
      },
      "execution_count": null,
      "outputs": []
    },
    {
      "cell_type": "markdown",
      "source": [
        "# **Import Dataset**"
      ],
      "metadata": {
        "id": "WxbwPVio_xe1"
      }
    },
    {
      "cell_type": "markdown",
      "source": [
        "Dataset 1"
      ],
      "metadata": {
        "id": "FrOhSp9G_2WO"
      }
    },
    {
      "cell_type": "code",
      "source": [
        "# File name and URL\n",
        "file_name = 'nfbotiot.zip'\n",
        "download_url = 'https://www.kaggle.com/api/v1/datasets/download/dhoogla/nfbotiot'\n",
        "\n",
        "# Check if the file exists; if not, download it\n",
        "if not os.path.exists(file_name):\n",
        "    print(f\"{file_name} does not exist. Downloading now...\")\n",
        "\n",
        "    # Download the file\n",
        "    response = requests.get(download_url, stream=True)\n",
        "    if response.status_code == 200:\n",
        "        with open(file_name, 'wb') as f:\n",
        "            for chunk in response.iter_content(chunk_size=1024):\n",
        "                f.write(chunk)\n",
        "        print(f\"{file_name} downloaded successfully.\")\n",
        "    else:\n",
        "        print(f\"Failed to download {file_name}. Status code: {response.status_code}\")\n",
        "else:\n",
        "    print(f\"{file_name} already exists. Skipping download.\")\n",
        "\n",
        "# Check if the dataset folder exists; if not, unzip the file\n",
        "if not os.path.exists(\"nfbotiot\"):\n",
        "    print(\"Unzipping the file...\")\n",
        "    with ZipFile(file_name, 'r') as zip_ref:\n",
        "        zip_ref.extractall(\"nfbotiot\")  # Extract to a folder named 'nfbotiot'\n",
        "    print(\"File unzipped successfully.\")\n",
        "else:\n",
        "    print(\"File already unzipped. Skipping unzip.\")\n",
        "\n",
        "# File name and target extraction folder\n",
        "zip_file_name = 'nfbotiot.zip'\n",
        "extract_folder = 'nfbotiot'  # Folder where the contents will be extracted\n",
        "\n",
        "# Check if the file exists\n",
        "if os.path.exists(zip_file_name):\n",
        "    print(f\"Found {zip_file_name}. Preparing to unzip...\")\n",
        "\n",
        "    # Create the target extraction folder if it doesn't exist\n",
        "    os.makedirs(extract_folder, exist_ok=True)\n",
        "\n",
        "    # Unzip the file\n",
        "    with ZipFile(zip_file_name, 'r') as zip_ref:\n",
        "        zip_ref.extractall(extract_folder)  # Extract files into the specified folder\n",
        "    print(f\"Contents extracted to {extract_folder}.\")\n",
        "else:\n",
        "    print(f\"{zip_file_name} not found. Ensure the file is in the current directory.\")"
      ],
      "metadata": {
        "id": "PWs0XUi__zO0",
        "colab": {
          "base_uri": "https://localhost:8080/"
        },
        "outputId": "7662d8d9-dfa7-41e5-ff0f-088ab16e5bd8"
      },
      "execution_count": null,
      "outputs": [
        {
          "output_type": "stream",
          "name": "stdout",
          "text": [
            "nfbotiot.zip does not exist. Downloading now...\n",
            "nfbotiot.zip downloaded successfully.\n",
            "Unzipping the file...\n",
            "File unzipped successfully.\n",
            "Found nfbotiot.zip. Preparing to unzip...\n",
            "Contents extracted to nfbotiot.\n"
          ]
        }
      ]
    },
    {
      "cell_type": "markdown",
      "source": [
        "Dataset 2"
      ],
      "metadata": {
        "id": "RNQXlxEa_3vn"
      }
    },
    {
      "cell_type": "code",
      "source": [
        "# File name and URL\n",
        "file_name = 'nf-cse-cic-ids2018.zip'\n",
        "download_url = 'https://www.kaggle.com/api/v1/datasets/download/dhoogla/nf-cse-cic-ids2018'\n",
        "\n",
        "# Check if the file exists; if not, download it\n",
        "if not os.path.exists(file_name):\n",
        "    print(f\"{file_name} does not exist. Downloading now...\")\n",
        "\n",
        "    # Download the file\n",
        "    response = requests.get(download_url, stream=True)\n",
        "    if response.status_code == 200:\n",
        "        with open(file_name, 'wb') as f:\n",
        "            for chunk in response.iter_content(chunk_size=1024):\n",
        "                f.write(chunk)\n",
        "        print(f\"{file_name} downloaded successfully.\")\n",
        "    else:\n",
        "        print(f\"Failed to download {file_name}. Status code: {response.status_code}\")\n",
        "else:\n",
        "    print(f\"{file_name} already exists. Skipping download.\")\n",
        "\n",
        "# Check if the dataset folder exists; if not, unzip the file\n",
        "if not os.path.exists(\"nf-cse-cic-ids2018\"):\n",
        "    print(\"Unzipping the file...\")\n",
        "    with ZipFile(file_name, 'r') as zip_ref:\n",
        "        zip_ref.extractall(\"nf-cse-cic-ids2018\")  # Extract to a folder named 'nf-cse-cic-ids2018'\n",
        "    print(\"File unzipped successfully.\")\n",
        "else:\n",
        "    print(\"File already unzipped. Skipping unzip.\")\n",
        "\n",
        "# File name and target extraction folder\n",
        "zip_file_name = 'nf-cse-cic-ids2018.zip'\n",
        "extract_folder = 'nf-cse-cic-ids2018'  # Folder where the contents will be extracted\n",
        "\n",
        "# Check if the file exists\n",
        "if os.path.exists(zip_file_name):\n",
        "    print(f\"Found {zip_file_name}. Preparing to unzip...\")\n",
        "\n",
        "    # Create the target extraction folder if it doesn't exist\n",
        "    os.makedirs(extract_folder, exist_ok=True)\n",
        "\n",
        "    # Unzip the file\n",
        "    with ZipFile(zip_file_name, 'r') as zip_ref:\n",
        "        zip_ref.extractall(extract_folder)  # Extract files into the specified folder\n",
        "    print(f\"Contents extracted to {extract_folder}.\")\n",
        "else:\n",
        "    print(f\"{zip_file_name} not found. Ensure the file is in the current directory.\")"
      ],
      "metadata": {
        "id": "BaHB6Wfa_8jO",
        "colab": {
          "base_uri": "https://localhost:8080/"
        },
        "outputId": "927c5018-91be-4bad-f594-1f80dac38d87"
      },
      "execution_count": null,
      "outputs": [
        {
          "output_type": "stream",
          "name": "stdout",
          "text": [
            "nf-cse-cic-ids2018.zip does not exist. Downloading now...\n",
            "nf-cse-cic-ids2018.zip downloaded successfully.\n",
            "Unzipping the file...\n",
            "File unzipped successfully.\n",
            "Found nf-cse-cic-ids2018.zip. Preparing to unzip...\n",
            "Contents extracted to nf-cse-cic-ids2018.\n"
          ]
        }
      ]
    },
    {
      "cell_type": "markdown",
      "source": [
        "Dataset 3"
      ],
      "metadata": {
        "id": "8Aw4Jryb_474"
      }
    },
    {
      "cell_type": "code",
      "source": [
        "# File name and URL\n",
        "file_name = 'nftoniot.zip'\n",
        "download_url = 'https://www.kaggle.com/api/v1/datasets/download/dhoogla/nftoniot'\n",
        "\n",
        "# Check if the file exists; if not, download it\n",
        "if not os.path.exists(file_name):\n",
        "    print(f\"{file_name} does not exist. Downloading now...\")\n",
        "\n",
        "    # Download the file\n",
        "    response = requests.get(download_url, stream=True)\n",
        "    if response.status_code == 200:\n",
        "        with open(file_name, 'wb') as f:\n",
        "            for chunk in response.iter_content(chunk_size=1024):\n",
        "                f.write(chunk)\n",
        "        print(f\"{file_name} downloaded successfully.\")\n",
        "    else:\n",
        "        print(f\"Failed to download {file_name}. Status code: {response.status_code}\")\n",
        "else:\n",
        "    print(f\"{file_name} already exists. Skipping download.\")\n",
        "\n",
        "# Check if the dataset folder exists; if not, unzip the file\n",
        "if not os.path.exists(\"nftoniot\"):\n",
        "    print(\"Unzipping the file...\")\n",
        "    with ZipFile(file_name, 'r') as zip_ref:\n",
        "        zip_ref.extractall(\"nftoniot\")  # Extract to a folder named 'nftoniot'\n",
        "    print(\"File unzipped successfully.\")\n",
        "else:\n",
        "    print(\"File already unzipped. Skipping unzip.\")\n",
        "\n",
        "# File name and target extraction folder\n",
        "zip_file_name = 'nftoniot.zip'\n",
        "extract_folder = 'nftoniot'  # Folder where the contents will be extracted\n",
        "\n",
        "# Check if the file exists\n",
        "if os.path.exists(zip_file_name):\n",
        "    print(f\"Found {zip_file_name}. Preparing to unzip...\")\n",
        "\n",
        "    # Create the target extraction folder if it doesn't exist\n",
        "    os.makedirs(extract_folder, exist_ok=True)\n",
        "\n",
        "    # Unzip the file\n",
        "    with ZipFile(zip_file_name, 'r') as zip_ref:\n",
        "        zip_ref.extractall(extract_folder)  # Extract files into the specified folder\n",
        "    print(f\"Contents extracted to {extract_folder}.\")\n",
        "else:\n",
        "    print(f\"{zip_file_name} not found. Ensure the file is in the current directory.\")"
      ],
      "metadata": {
        "id": "xmKozv9v_-Gk",
        "colab": {
          "base_uri": "https://localhost:8080/"
        },
        "outputId": "792695b9-85a5-4453-b5ea-2fffc735781e"
      },
      "execution_count": null,
      "outputs": [
        {
          "output_type": "stream",
          "name": "stdout",
          "text": [
            "nftoniot.zip does not exist. Downloading now...\n",
            "nftoniot.zip downloaded successfully.\n",
            "Unzipping the file...\n",
            "File unzipped successfully.\n",
            "Found nftoniot.zip. Preparing to unzip...\n",
            "Contents extracted to nftoniot.\n"
          ]
        }
      ]
    },
    {
      "cell_type": "markdown",
      "source": [
        "# **Data Exploration**"
      ],
      "metadata": {
        "id": "7eIF6-qpAjn0"
      }
    },
    {
      "cell_type": "code",
      "source": [
        "data1 = pd.read_parquet('/content/nfbotiot/NF-BoT-IoT.parquet')\n",
        "\n",
        "# Assuming 'data1' is your DataFrame\n",
        "filtered_data1 = data1[data1['Attack'].isin(['DDoS', 'Benign'])]\n",
        "\n",
        "# Display the filtered dataset value counts for confirmation\n",
        "print(filtered_data1['Attack'].value_counts())"
      ],
      "metadata": {
        "id": "edCn6KVPAlRD",
        "colab": {
          "base_uri": "https://localhost:8080/"
        },
        "outputId": "599bbc55-084d-4040-e350-a9e6acd98345"
      },
      "execution_count": null,
      "outputs": [
        {
          "output_type": "stream",
          "name": "stdout",
          "text": [
            "Attack\n",
            "DDoS      56260\n",
            "Benign    13803\n",
            "Name: count, dtype: int64\n"
          ]
        }
      ]
    },
    {
      "cell_type": "code",
      "source": [
        "data2 = pd.read_parquet('/content/nf-cse-cic-ids2018/NF-CSE-CIC-IDS2018.parquet')\n",
        "\n",
        "# Replace all variations of 'DDoS' attack with a unified 'DDoS' label\n",
        "data2['Attack'] = data2['Attack'].str.replace(r'DDOS.*', 'DDoS', case=False, regex=True)\n",
        "\n",
        "# Filter data to only include 'Benign' and 'DDoS' attacks\n",
        "filtered_data2 = data2[data2['Attack'].str.contains('Benign|DDoS', case=False, na=False)]\n",
        "\n",
        "# Print the counts of each category in the filtered data for verification\n",
        "print(filtered_data2['Attack'].value_counts())"
      ],
      "metadata": {
        "id": "Tlh3q0vJAxOh",
        "colab": {
          "base_uri": "https://localhost:8080/"
        },
        "outputId": "2e6f9ab5-8e7b-4b7e-9996-877ba135de84"
      },
      "execution_count": null,
      "outputs": [
        {
          "output_type": "stream",
          "name": "stdout",
          "text": [
            "Attack\n",
            "Benign    5534773\n",
            "DDoS        51648\n",
            "Name: count, dtype: int64\n"
          ]
        }
      ]
    },
    {
      "cell_type": "code",
      "source": [
        "data3 = pd.read_parquet('/content/nftoniot/NF-ToN-IoT.parquet')\n",
        "\n",
        "# Filter data to only include 'Benign' and 'DDoS' attacks\n",
        "filtered_data3 = data3[data3['Attack'].str.contains('Benign|DDoS', case=False, na=False)]\n",
        "\n",
        "# Print the first few rows of the filtered data for verification\n",
        "print(filtered_data3['Attack'].value_counts())"
      ],
      "metadata": {
        "id": "-_-NSGPGAynf",
        "colab": {
          "base_uri": "https://localhost:8080/"
        },
        "outputId": "0e2b3899-f292-460e-f2c4-81864355cdc7"
      },
      "execution_count": null,
      "outputs": [
        {
          "output_type": "stream",
          "name": "stdout",
          "text": [
            "Attack\n",
            "Benign    198450\n",
            "ddos      197680\n",
            "Name: count, dtype: int64\n"
          ]
        }
      ]
    },
    {
      "cell_type": "markdown",
      "source": [
        "# **Cleaning**"
      ],
      "metadata": {
        "id": "4cwcEq0FA1NL"
      }
    },
    {
      "cell_type": "code",
      "source": [
        "# Apply log(1 + x) transform to ALL numeric features (handles zero safely)\n",
        "for feature in ['L4_DST_PORT', 'PROTOCOL', 'L7_PROTO', 'IN_BYTES', 'OUT_BYTES',\n",
        "                'IN_PKTS', 'OUT_PKTS', 'TCP_FLAGS', 'FLOW_DURATION_MILLISECONDS']:\n",
        "    filtered_data1[f'{feature}_log'] = np.log1p(filtered_data1[feature])\n",
        "\n",
        "# Define outlier removal function\n",
        "def remove_outliers_benign(df, column, label_column='Label', benign_value=0):\n",
        "    Q1 = df[df[label_column] == benign_value][column].quantile(0.25)\n",
        "    Q3 = df[df[label_column] == benign_value][column].quantile(0.75)\n",
        "    IQR = Q3 - Q1\n",
        "    lower_bound = Q1 - 1.5 * IQR\n",
        "    upper_bound = Q3 + 1.5 * IQR\n",
        "\n",
        "    # Remove outliers only in benign class\n",
        "    mask_benign = (df[label_column] == benign_value) & ((df[column] < lower_bound) | (df[column] > upper_bound))\n",
        "    df_filtered = df[~mask_benign]\n",
        "    return df_filtered\n",
        "\n",
        "# Example: Remove OUT_PKTS outliers in Benign samples only\n",
        "filtered_data_no_benign_outliers = remove_outliers_benign(filtered_data1, 'OUT_PKTS')\n",
        "\n",
        "print(f\"Original shape: {filtered_data1.shape}\")\n",
        "print(f\"Filtered shape: {filtered_data_no_benign_outliers.shape}\")"
      ],
      "metadata": {
        "id": "BpgAndLDA0Pa",
        "colab": {
          "base_uri": "https://localhost:8080/"
        },
        "outputId": "631d2d09-faa2-4216-abf0-b9174f24af55"
      },
      "execution_count": null,
      "outputs": [
        {
          "output_type": "stream",
          "name": "stdout",
          "text": [
            "Original shape: (70063, 21)\n",
            "Filtered shape: (69217, 21)\n"
          ]
        },
        {
          "output_type": "stream",
          "name": "stderr",
          "text": [
            "<ipython-input-9-606e1ced9f23>:4: SettingWithCopyWarning: \n",
            "A value is trying to be set on a copy of a slice from a DataFrame.\n",
            "Try using .loc[row_indexer,col_indexer] = value instead\n",
            "\n",
            "See the caveats in the documentation: https://pandas.pydata.org/pandas-docs/stable/user_guide/indexing.html#returning-a-view-versus-a-copy\n",
            "  filtered_data1[f'{feature}_log'] = np.log1p(filtered_data1[feature])\n",
            "<ipython-input-9-606e1ced9f23>:4: SettingWithCopyWarning: \n",
            "A value is trying to be set on a copy of a slice from a DataFrame.\n",
            "Try using .loc[row_indexer,col_indexer] = value instead\n",
            "\n",
            "See the caveats in the documentation: https://pandas.pydata.org/pandas-docs/stable/user_guide/indexing.html#returning-a-view-versus-a-copy\n",
            "  filtered_data1[f'{feature}_log'] = np.log1p(filtered_data1[feature])\n",
            "<ipython-input-9-606e1ced9f23>:4: SettingWithCopyWarning: \n",
            "A value is trying to be set on a copy of a slice from a DataFrame.\n",
            "Try using .loc[row_indexer,col_indexer] = value instead\n",
            "\n",
            "See the caveats in the documentation: https://pandas.pydata.org/pandas-docs/stable/user_guide/indexing.html#returning-a-view-versus-a-copy\n",
            "  filtered_data1[f'{feature}_log'] = np.log1p(filtered_data1[feature])\n",
            "<ipython-input-9-606e1ced9f23>:4: SettingWithCopyWarning: \n",
            "A value is trying to be set on a copy of a slice from a DataFrame.\n",
            "Try using .loc[row_indexer,col_indexer] = value instead\n",
            "\n",
            "See the caveats in the documentation: https://pandas.pydata.org/pandas-docs/stable/user_guide/indexing.html#returning-a-view-versus-a-copy\n",
            "  filtered_data1[f'{feature}_log'] = np.log1p(filtered_data1[feature])\n",
            "<ipython-input-9-606e1ced9f23>:4: SettingWithCopyWarning: \n",
            "A value is trying to be set on a copy of a slice from a DataFrame.\n",
            "Try using .loc[row_indexer,col_indexer] = value instead\n",
            "\n",
            "See the caveats in the documentation: https://pandas.pydata.org/pandas-docs/stable/user_guide/indexing.html#returning-a-view-versus-a-copy\n",
            "  filtered_data1[f'{feature}_log'] = np.log1p(filtered_data1[feature])\n",
            "<ipython-input-9-606e1ced9f23>:4: SettingWithCopyWarning: \n",
            "A value is trying to be set on a copy of a slice from a DataFrame.\n",
            "Try using .loc[row_indexer,col_indexer] = value instead\n",
            "\n",
            "See the caveats in the documentation: https://pandas.pydata.org/pandas-docs/stable/user_guide/indexing.html#returning-a-view-versus-a-copy\n",
            "  filtered_data1[f'{feature}_log'] = np.log1p(filtered_data1[feature])\n",
            "<ipython-input-9-606e1ced9f23>:4: SettingWithCopyWarning: \n",
            "A value is trying to be set on a copy of a slice from a DataFrame.\n",
            "Try using .loc[row_indexer,col_indexer] = value instead\n",
            "\n",
            "See the caveats in the documentation: https://pandas.pydata.org/pandas-docs/stable/user_guide/indexing.html#returning-a-view-versus-a-copy\n",
            "  filtered_data1[f'{feature}_log'] = np.log1p(filtered_data1[feature])\n",
            "<ipython-input-9-606e1ced9f23>:4: SettingWithCopyWarning: \n",
            "A value is trying to be set on a copy of a slice from a DataFrame.\n",
            "Try using .loc[row_indexer,col_indexer] = value instead\n",
            "\n",
            "See the caveats in the documentation: https://pandas.pydata.org/pandas-docs/stable/user_guide/indexing.html#returning-a-view-versus-a-copy\n",
            "  filtered_data1[f'{feature}_log'] = np.log1p(filtered_data1[feature])\n",
            "<ipython-input-9-606e1ced9f23>:4: SettingWithCopyWarning: \n",
            "A value is trying to be set on a copy of a slice from a DataFrame.\n",
            "Try using .loc[row_indexer,col_indexer] = value instead\n",
            "\n",
            "See the caveats in the documentation: https://pandas.pydata.org/pandas-docs/stable/user_guide/indexing.html#returning-a-view-versus-a-copy\n",
            "  filtered_data1[f'{feature}_log'] = np.log1p(filtered_data1[feature])\n"
          ]
        }
      ]
    },
    {
      "cell_type": "code",
      "source": [
        "# Apply log(1 + x) transform to ALL numeric features (handles zero safely)\n",
        "for feature in ['L4_DST_PORT', 'PROTOCOL', 'L7_PROTO', 'IN_BYTES', 'OUT_BYTES',\n",
        "                'IN_PKTS', 'OUT_PKTS', 'TCP_FLAGS', 'FLOW_DURATION_MILLISECONDS']:\n",
        "    filtered_data2[f'{feature}_log'] = np.log1p(filtered_data2[feature])\n",
        "\n",
        "# Define outlier removal function\n",
        "def remove_outliers_benign(df, column, label_column='Label', benign_value=0):\n",
        "    Q1 = df[df[label_column] == benign_value][column].quantile(0.25)\n",
        "    Q3 = df[df[label_column] == benign_value][column].quantile(0.75)\n",
        "    IQR = Q3 - Q1\n",
        "    lower_bound = Q1 - 1.5 * IQR\n",
        "    upper_bound = Q3 + 1.5 * IQR\n",
        "\n",
        "    # Remove outliers only in benign class\n",
        "    mask_benign = (df[label_column] == benign_value) & ((df[column] < lower_bound) | (df[column] > upper_bound))\n",
        "    df_filtered = df[~mask_benign]\n",
        "    return df_filtered\n",
        "\n",
        "# Example: Remove OUT_PKTS outliers in Benign samples only\n",
        "filtered_data_no_benign_outliers = remove_outliers_benign(filtered_data2, 'OUT_PKTS')\n",
        "\n",
        "print(f\"Original shape: {filtered_data2.shape}\")\n",
        "print(f\"Filtered shape: {filtered_data_no_benign_outliers.shape}\")"
      ],
      "metadata": {
        "id": "vKa2_LAMA4zZ",
        "colab": {
          "base_uri": "https://localhost:8080/"
        },
        "outputId": "0991aa0b-3133-42aa-e918-2f74a82d5a91"
      },
      "execution_count": null,
      "outputs": [
        {
          "output_type": "stream",
          "name": "stderr",
          "text": [
            "<ipython-input-10-5bf9c731409b>:4: SettingWithCopyWarning: \n",
            "A value is trying to be set on a copy of a slice from a DataFrame.\n",
            "Try using .loc[row_indexer,col_indexer] = value instead\n",
            "\n",
            "See the caveats in the documentation: https://pandas.pydata.org/pandas-docs/stable/user_guide/indexing.html#returning-a-view-versus-a-copy\n",
            "  filtered_data2[f'{feature}_log'] = np.log1p(filtered_data2[feature])\n",
            "<ipython-input-10-5bf9c731409b>:4: SettingWithCopyWarning: \n",
            "A value is trying to be set on a copy of a slice from a DataFrame.\n",
            "Try using .loc[row_indexer,col_indexer] = value instead\n",
            "\n",
            "See the caveats in the documentation: https://pandas.pydata.org/pandas-docs/stable/user_guide/indexing.html#returning-a-view-versus-a-copy\n",
            "  filtered_data2[f'{feature}_log'] = np.log1p(filtered_data2[feature])\n",
            "<ipython-input-10-5bf9c731409b>:4: SettingWithCopyWarning: \n",
            "A value is trying to be set on a copy of a slice from a DataFrame.\n",
            "Try using .loc[row_indexer,col_indexer] = value instead\n",
            "\n",
            "See the caveats in the documentation: https://pandas.pydata.org/pandas-docs/stable/user_guide/indexing.html#returning-a-view-versus-a-copy\n",
            "  filtered_data2[f'{feature}_log'] = np.log1p(filtered_data2[feature])\n",
            "<ipython-input-10-5bf9c731409b>:4: SettingWithCopyWarning: \n",
            "A value is trying to be set on a copy of a slice from a DataFrame.\n",
            "Try using .loc[row_indexer,col_indexer] = value instead\n",
            "\n",
            "See the caveats in the documentation: https://pandas.pydata.org/pandas-docs/stable/user_guide/indexing.html#returning-a-view-versus-a-copy\n",
            "  filtered_data2[f'{feature}_log'] = np.log1p(filtered_data2[feature])\n",
            "<ipython-input-10-5bf9c731409b>:4: SettingWithCopyWarning: \n",
            "A value is trying to be set on a copy of a slice from a DataFrame.\n",
            "Try using .loc[row_indexer,col_indexer] = value instead\n",
            "\n",
            "See the caveats in the documentation: https://pandas.pydata.org/pandas-docs/stable/user_guide/indexing.html#returning-a-view-versus-a-copy\n",
            "  filtered_data2[f'{feature}_log'] = np.log1p(filtered_data2[feature])\n",
            "<ipython-input-10-5bf9c731409b>:4: SettingWithCopyWarning: \n",
            "A value is trying to be set on a copy of a slice from a DataFrame.\n",
            "Try using .loc[row_indexer,col_indexer] = value instead\n",
            "\n",
            "See the caveats in the documentation: https://pandas.pydata.org/pandas-docs/stable/user_guide/indexing.html#returning-a-view-versus-a-copy\n",
            "  filtered_data2[f'{feature}_log'] = np.log1p(filtered_data2[feature])\n",
            "<ipython-input-10-5bf9c731409b>:4: SettingWithCopyWarning: \n",
            "A value is trying to be set on a copy of a slice from a DataFrame.\n",
            "Try using .loc[row_indexer,col_indexer] = value instead\n",
            "\n",
            "See the caveats in the documentation: https://pandas.pydata.org/pandas-docs/stable/user_guide/indexing.html#returning-a-view-versus-a-copy\n",
            "  filtered_data2[f'{feature}_log'] = np.log1p(filtered_data2[feature])\n",
            "<ipython-input-10-5bf9c731409b>:4: SettingWithCopyWarning: \n",
            "A value is trying to be set on a copy of a slice from a DataFrame.\n",
            "Try using .loc[row_indexer,col_indexer] = value instead\n",
            "\n",
            "See the caveats in the documentation: https://pandas.pydata.org/pandas-docs/stable/user_guide/indexing.html#returning-a-view-versus-a-copy\n",
            "  filtered_data2[f'{feature}_log'] = np.log1p(filtered_data2[feature])\n",
            "<ipython-input-10-5bf9c731409b>:4: SettingWithCopyWarning: \n",
            "A value is trying to be set on a copy of a slice from a DataFrame.\n",
            "Try using .loc[row_indexer,col_indexer] = value instead\n",
            "\n",
            "See the caveats in the documentation: https://pandas.pydata.org/pandas-docs/stable/user_guide/indexing.html#returning-a-view-versus-a-copy\n",
            "  filtered_data2[f'{feature}_log'] = np.log1p(filtered_data2[feature])\n"
          ]
        },
        {
          "output_type": "stream",
          "name": "stdout",
          "text": [
            "Original shape: (5586421, 21)\n",
            "Filtered shape: (5377938, 21)\n"
          ]
        }
      ]
    },
    {
      "cell_type": "code",
      "source": [
        "# Apply log(1 + x) transform to ALL numeric features (handles zero safely)\n",
        "for feature in ['L4_DST_PORT', 'PROTOCOL', 'L7_PROTO', 'IN_BYTES', 'OUT_BYTES',\n",
        "                'IN_PKTS', 'OUT_PKTS', 'TCP_FLAGS', 'FLOW_DURATION_MILLISECONDS']:\n",
        "    filtered_data3[f'{feature}_log'] = np.log1p(filtered_data3[feature])\n",
        "\n",
        "# Define outlier removal function\n",
        "def remove_outliers_benign(df, column, label_column='Label', benign_value=0):\n",
        "    Q1 = df[df[label_column] == benign_value][column].quantile(0.25)\n",
        "    Q3 = df[df[label_column] == benign_value][column].quantile(0.75)\n",
        "    IQR = Q3 - Q1\n",
        "    lower_bound = Q1 - 1.5 * IQR\n",
        "    upper_bound = Q3 + 1.5 * IQR\n",
        "\n",
        "    # Remove outliers only in benign class\n",
        "    mask_benign = (df[label_column] == benign_value) & ((df[column] < lower_bound) | (df[column] > upper_bound))\n",
        "    df_filtered = df[~mask_benign]\n",
        "    return df_filtered\n",
        "\n",
        "# Example: Remove OUT_PKTS outliers in Benign samples only\n",
        "filtered_data_no_benign_outliers = remove_outliers_benign(filtered_data3, 'OUT_PKTS')\n",
        "\n",
        "print(f\"Original shape: {filtered_data3.shape}\")\n",
        "print(f\"Filtered shape: {filtered_data_no_benign_outliers.shape}\")"
      ],
      "metadata": {
        "id": "bj_mPy_GA56d",
        "colab": {
          "base_uri": "https://localhost:8080/"
        },
        "outputId": "451c2dd0-65ea-4ce8-db1d-74f0258f2561"
      },
      "execution_count": null,
      "outputs": [
        {
          "output_type": "stream",
          "name": "stdout",
          "text": [
            "Original shape: (396130, 21)\n",
            "Filtered shape: (371807, 21)\n"
          ]
        },
        {
          "output_type": "stream",
          "name": "stderr",
          "text": [
            "<ipython-input-11-a9ed23c43019>:4: SettingWithCopyWarning: \n",
            "A value is trying to be set on a copy of a slice from a DataFrame.\n",
            "Try using .loc[row_indexer,col_indexer] = value instead\n",
            "\n",
            "See the caveats in the documentation: https://pandas.pydata.org/pandas-docs/stable/user_guide/indexing.html#returning-a-view-versus-a-copy\n",
            "  filtered_data3[f'{feature}_log'] = np.log1p(filtered_data3[feature])\n",
            "<ipython-input-11-a9ed23c43019>:4: SettingWithCopyWarning: \n",
            "A value is trying to be set on a copy of a slice from a DataFrame.\n",
            "Try using .loc[row_indexer,col_indexer] = value instead\n",
            "\n",
            "See the caveats in the documentation: https://pandas.pydata.org/pandas-docs/stable/user_guide/indexing.html#returning-a-view-versus-a-copy\n",
            "  filtered_data3[f'{feature}_log'] = np.log1p(filtered_data3[feature])\n",
            "<ipython-input-11-a9ed23c43019>:4: SettingWithCopyWarning: \n",
            "A value is trying to be set on a copy of a slice from a DataFrame.\n",
            "Try using .loc[row_indexer,col_indexer] = value instead\n",
            "\n",
            "See the caveats in the documentation: https://pandas.pydata.org/pandas-docs/stable/user_guide/indexing.html#returning-a-view-versus-a-copy\n",
            "  filtered_data3[f'{feature}_log'] = np.log1p(filtered_data3[feature])\n",
            "<ipython-input-11-a9ed23c43019>:4: SettingWithCopyWarning: \n",
            "A value is trying to be set on a copy of a slice from a DataFrame.\n",
            "Try using .loc[row_indexer,col_indexer] = value instead\n",
            "\n",
            "See the caveats in the documentation: https://pandas.pydata.org/pandas-docs/stable/user_guide/indexing.html#returning-a-view-versus-a-copy\n",
            "  filtered_data3[f'{feature}_log'] = np.log1p(filtered_data3[feature])\n",
            "<ipython-input-11-a9ed23c43019>:4: SettingWithCopyWarning: \n",
            "A value is trying to be set on a copy of a slice from a DataFrame.\n",
            "Try using .loc[row_indexer,col_indexer] = value instead\n",
            "\n",
            "See the caveats in the documentation: https://pandas.pydata.org/pandas-docs/stable/user_guide/indexing.html#returning-a-view-versus-a-copy\n",
            "  filtered_data3[f'{feature}_log'] = np.log1p(filtered_data3[feature])\n",
            "<ipython-input-11-a9ed23c43019>:4: SettingWithCopyWarning: \n",
            "A value is trying to be set on a copy of a slice from a DataFrame.\n",
            "Try using .loc[row_indexer,col_indexer] = value instead\n",
            "\n",
            "See the caveats in the documentation: https://pandas.pydata.org/pandas-docs/stable/user_guide/indexing.html#returning-a-view-versus-a-copy\n",
            "  filtered_data3[f'{feature}_log'] = np.log1p(filtered_data3[feature])\n",
            "<ipython-input-11-a9ed23c43019>:4: SettingWithCopyWarning: \n",
            "A value is trying to be set on a copy of a slice from a DataFrame.\n",
            "Try using .loc[row_indexer,col_indexer] = value instead\n",
            "\n",
            "See the caveats in the documentation: https://pandas.pydata.org/pandas-docs/stable/user_guide/indexing.html#returning-a-view-versus-a-copy\n",
            "  filtered_data3[f'{feature}_log'] = np.log1p(filtered_data3[feature])\n",
            "<ipython-input-11-a9ed23c43019>:4: SettingWithCopyWarning: \n",
            "A value is trying to be set on a copy of a slice from a DataFrame.\n",
            "Try using .loc[row_indexer,col_indexer] = value instead\n",
            "\n",
            "See the caveats in the documentation: https://pandas.pydata.org/pandas-docs/stable/user_guide/indexing.html#returning-a-view-versus-a-copy\n",
            "  filtered_data3[f'{feature}_log'] = np.log1p(filtered_data3[feature])\n",
            "<ipython-input-11-a9ed23c43019>:4: SettingWithCopyWarning: \n",
            "A value is trying to be set on a copy of a slice from a DataFrame.\n",
            "Try using .loc[row_indexer,col_indexer] = value instead\n",
            "\n",
            "See the caveats in the documentation: https://pandas.pydata.org/pandas-docs/stable/user_guide/indexing.html#returning-a-view-versus-a-copy\n",
            "  filtered_data3[f'{feature}_log'] = np.log1p(filtered_data3[feature])\n"
          ]
        }
      ]
    },
    {
      "cell_type": "markdown",
      "source": [
        "# **Training**"
      ],
      "metadata": {
        "id": "HIcTbkeXA8FH"
      }
    },
    {
      "cell_type": "markdown",
      "source": [
        "LSTM (Dataset 2)"
      ],
      "metadata": {
        "id": "w9LAUqisBC7V"
      }
    },
    {
      "cell_type": "code",
      "source": [
        "# Encode the target labels\n",
        "encoder = LabelEncoder()\n",
        "filtered_data2['Attack'] = encoder.fit_transform(filtered_data2['Attack'])  # \"Benign\" -> 0, \"DDoS\" -> 1\n",
        "\n",
        "# Split features (X) and target (y)\n",
        "X1, y1 = filtered_data2.drop(columns=['Attack']), filtered_data2['Attack']\n",
        "\n",
        "# Normalize the features\n",
        "scaler = MinMaxScaler()\n",
        "X1 = scaler.fit_transform(X1)\n",
        "\n",
        "# Reshape X1 for LSTM (samples, timesteps, features)\n",
        "X1 = np.expand_dims(X1, axis=-1)  # Reshaping to 3D for LSTM\n",
        "\n",
        "# Split into training and testing sets\n",
        "X1_train, X1_test, y1_train, y1_test = train_test_split(X1, y1, test_size=0.2, random_state=42)\n",
        "\n",
        "# Build the LSTM model\n",
        "model_lstm = Sequential([\n",
        "    LSTM(64, input_shape=(X1_train.shape[1], X1_train.shape[2]), activation='relu', return_sequences=False),\n",
        "    Dense(1, activation='sigmoid')  # Binary classification output\n",
        "])\n",
        "\n",
        "# Compile the model\n",
        "model_lstm.compile(optimizer='adam', loss='binary_crossentropy', metrics=['accuracy'])\n",
        "\n",
        "# Class weight to handle imbalanced classes (if needed)\n",
        "class_weight = {0: 1., 1: 10.}  # Adjust the weights as needed\n",
        "\n",
        "# Train the model\n",
        "history = model_lstm.fit(X1_train, y1_train, epochs=10, batch_size=32, validation_data=(X1_test, y1_test), class_weight=class_weight)\n",
        "\n",
        "# Evaluate the model\n",
        "loss, accuracy = model_lstm.evaluate(X1_test, y1_test)\n",
        "print(f\"Test Loss: {loss:.4f}\")\n",
        "print(f\"Test Accuracy: {accuracy:.4f}\")\n",
        "\n",
        "# Make predictions\n",
        "y1_pred = model_lstm.predict(X1_test)\n",
        "y1_pred = (y1_pred > 0.5).astype(int)  # Convert probabilities to binary predictions\n",
        "\n",
        "# Plot Training and Validation Loss\n",
        "plt.figure(figsize=(12, 6))\n",
        "\n",
        "# Loss\n",
        "plt.subplot(1, 2, 1)\n",
        "plt.plot(history.history['loss'], label='Training Loss', color='blue')\n",
        "plt.plot(history.history['val_loss'], label='Validation Loss', color='orange')\n",
        "plt.title('Loss over Epochs')\n",
        "plt.xlabel('Epochs')\n",
        "plt.ylabel('Loss')\n",
        "plt.legend()\n",
        "\n",
        "# Accuracy\n",
        "plt.subplot(1, 2, 2)\n",
        "plt.plot(history.history['accuracy'], label='Training Accuracy', color='blue')\n",
        "plt.plot(history.history['val_accuracy'], label='Validation Accuracy', color='orange')\n",
        "plt.title('Accuracy over Epochs')\n",
        "plt.xlabel('Epochs')\n",
        "plt.ylabel('Accuracy')\n",
        "plt.legend()\n",
        "\n",
        "# Display the plots\n",
        "plt.tight_layout()\n",
        "plt.show()"
      ],
      "metadata": {
        "id": "k7foEEgKBB8c",
        "colab": {
          "base_uri": "https://localhost:8080/",
          "height": 1000
        },
        "outputId": "052465aa-e381-4242-ea8e-83827ae018eb"
      },
      "execution_count": null,
      "outputs": [
        {
          "output_type": "stream",
          "name": "stderr",
          "text": [
            "<ipython-input-12-04d08ef91b15>:3: SettingWithCopyWarning: \n",
            "A value is trying to be set on a copy of a slice from a DataFrame.\n",
            "Try using .loc[row_indexer,col_indexer] = value instead\n",
            "\n",
            "See the caveats in the documentation: https://pandas.pydata.org/pandas-docs/stable/user_guide/indexing.html#returning-a-view-versus-a-copy\n",
            "  filtered_data2['Attack'] = encoder.fit_transform(filtered_data2['Attack'])  # \"Benign\" -> 0, \"DDoS\" -> 1\n",
            "/usr/local/lib/python3.11/dist-packages/keras/src/layers/rnn/rnn.py:199: UserWarning: Do not pass an `input_shape`/`input_dim` argument to a layer. When using Sequential models, prefer using an `Input(shape)` object as the first layer in the model instead.\n",
            "  super().__init__(**kwargs)\n"
          ]
        },
        {
          "output_type": "stream",
          "name": "stdout",
          "text": [
            "Epoch 1/10\n",
            "\u001b[1m139661/139661\u001b[0m \u001b[32m━━━━━━━━━━━━━━━━━━━━\u001b[0m\u001b[37m\u001b[0m \u001b[1m624s\u001b[0m 4ms/step - accuracy: 0.9974 - loss: 0.3839 - val_accuracy: 0.9999 - val_loss: 7.1877e-04\n",
            "Epoch 2/10\n",
            "\u001b[1m139661/139661\u001b[0m \u001b[32m━━━━━━━━━━━━━━━━━━━━\u001b[0m\u001b[37m\u001b[0m \u001b[1m620s\u001b[0m 4ms/step - accuracy: 0.9997 - loss: 0.3808 - val_accuracy: 1.0000 - val_loss: 1.9275e-09\n",
            "Epoch 3/10\n",
            "\u001b[1m139661/139661\u001b[0m \u001b[32m━━━━━━━━━━━━━━━━━━━━\u001b[0m\u001b[37m\u001b[0m \u001b[1m624s\u001b[0m 4ms/step - accuracy: 1.0000 - loss: 4.7327e-05 - val_accuracy: 1.0000 - val_loss: 2.9072e-14\n",
            "Epoch 4/10\n",
            "\u001b[1m139661/139661\u001b[0m \u001b[32m━━━━━━━━━━━━━━━━━━━━\u001b[0m\u001b[37m\u001b[0m \u001b[1m625s\u001b[0m 4ms/step - accuracy: 1.0000 - loss: 3.2705e-14 - val_accuracy: 1.0000 - val_loss: 1.3951e-14\n",
            "Epoch 5/10\n",
            "\u001b[1m139661/139661\u001b[0m \u001b[32m━━━━━━━━━━━━━━━━━━━━\u001b[0m\u001b[37m\u001b[0m \u001b[1m678s\u001b[0m 4ms/step - accuracy: 1.0000 - loss: 1.7397e-14 - val_accuracy: 1.0000 - val_loss: 9.4601e-15\n",
            "Epoch 6/10\n",
            "\u001b[1m139661/139661\u001b[0m \u001b[32m━━━━━━━━━━━━━━━━━━━━\u001b[0m\u001b[37m\u001b[0m \u001b[1m684s\u001b[0m 4ms/step - accuracy: 1.0000 - loss: 1.2084e-14 - val_accuracy: 1.0000 - val_loss: 7.3411e-15\n",
            "Epoch 7/10\n",
            "\u001b[1m139661/139661\u001b[0m \u001b[32m━━━━━━━━━━━━━━━━━━━━\u001b[0m\u001b[37m\u001b[0m \u001b[1m623s\u001b[0m 4ms/step - accuracy: 1.0000 - loss: 9.6985e-15 - val_accuracy: 1.0000 - val_loss: 6.0837e-15\n",
            "Epoch 8/10\n",
            "\u001b[1m139661/139661\u001b[0m \u001b[32m━━━━━━━━━━━━━━━━━━━━\u001b[0m\u001b[37m\u001b[0m \u001b[1m565s\u001b[0m 4ms/step - accuracy: 1.0000 - loss: 8.1409e-15 - val_accuracy: 1.0000 - val_loss: 5.0832e-15\n",
            "Epoch 9/10\n",
            "\u001b[1m139661/139661\u001b[0m \u001b[32m━━━━━━━━━━━━━━━━━━━━\u001b[0m\u001b[37m\u001b[0m \u001b[1m564s\u001b[0m 4ms/step - accuracy: 1.0000 - loss: 7.3471e-15 - val_accuracy: 1.0000 - val_loss: 4.4852e-15\n",
            "Epoch 10/10\n",
            "\u001b[1m139661/139661\u001b[0m \u001b[32m━━━━━━━━━━━━━━━━━━━━\u001b[0m\u001b[37m\u001b[0m \u001b[1m621s\u001b[0m 4ms/step - accuracy: 1.0000 - loss: 6.1319e-15 - val_accuracy: 1.0000 - val_loss: 4.0986e-15\n",
            "\u001b[1m34916/34916\u001b[0m \u001b[32m━━━━━━━━━━━━━━━━━━━━\u001b[0m\u001b[37m\u001b[0m \u001b[1m91s\u001b[0m 3ms/step - accuracy: 1.0000 - loss: 4.0042e-15\n",
            "Test Loss: 0.0000\n",
            "Test Accuracy: 1.0000\n",
            "\u001b[1m34916/34916\u001b[0m \u001b[32m━━━━━━━━━━━━━━━━━━━━\u001b[0m\u001b[37m\u001b[0m \u001b[1m63s\u001b[0m 2ms/step\n"
          ]
        },
        {
          "output_type": "display_data",
          "data": {
            "text/plain": [
              "<Figure size 1200x600 with 2 Axes>"
            ],
            "image/png": "[encoded data removed]"
          },
          "metadata": {}
        }
      ]
    },
    {
      "cell_type": "markdown",
      "source": [
        "CNN (Dataset 1)"
      ],
      "metadata": {
        "id": "PScX9fRzBCXF"
      }
    },
    {
      "cell_type": "code",
      "source": [
        "# Encode the target labels\n",
        "encoder = LabelEncoder()\n",
        "filtered_data1['Attack'] = encoder.fit_transform(filtered_data1['Attack'])  # \"Benign\" -> 0, \"DDoS\" -> 1\n",
        "\n",
        "# Split features (X) and target (y)\n",
        "X2, y2 = filtered_data1.drop(columns=['Attack']), filtered_data1['Attack']\n",
        "\n",
        "# Normalize the features\n",
        "scaler = MinMaxScaler()\n",
        "X2 = scaler.fit_transform(X2)\n",
        "\n",
        "# Define height, width, depth (dimensions for 3D CNN)\n",
        "height = 5\n",
        "width = 5\n",
        "depth = 4\n",
        "\n",
        "total_features = height * width * depth\n",
        "\n",
        "# Ensure X2 has exactly total_features columns\n",
        "if X2.shape[1] < total_features:\n",
        "    print(f\"Padding features: {X2.shape[1]} -> {total_features}\")\n",
        "    padding = np.zeros((X2.shape[0], total_features - X2.shape[1]))\n",
        "    X2_padded = np.concatenate([X2, padding], axis=1)\n",
        "elif X2.shape[1] > total_features:\n",
        "    print(f\"Trimming features: {X2.shape[1]} -> {total_features}\")\n",
        "    X2_padded = X2[:, :total_features]\n",
        "else:\n",
        "    X2_padded = X2\n",
        "\n",
        "# Reshape X2 into 5D shape for 3D CNN (samples, height, width, depth, channels)\n",
        "X2_reshaped = X2_padded.reshape((X2.shape[0], height, width, depth, 1))  # 1 channel\n",
        "\n",
        "# Split into training and testing sets\n",
        "X2_train, X2_test, y2_train, y2_test = train_test_split(X2_reshaped, y2, test_size=0.2, random_state=42)\n",
        "\n",
        "# Build the 3D CNN model with small kernel size\n",
        "model_cnn = Sequential([\n",
        "    Conv3D(32, kernel_size=(1, 1, 1), activation='relu', input_shape=(height, width, depth, 1)),\n",
        "    GlobalAveragePooling3D(),\n",
        "    Dense(1, activation='sigmoid')  # Binary classification\n",
        "])\n",
        "\n",
        "# Compile the model\n",
        "model_cnn.compile(optimizer='adam', loss='binary_crossentropy', metrics=['accuracy'])\n",
        "\n",
        "# Train the 3D CNN\n",
        "history = model_cnn.fit(X2_train, y2_train, epochs=10, batch_size=32, validation_data=(X2_test, y2_test))\n",
        "\n",
        "# Evaluate the 3D CNN\n",
        "loss, accuracy = model_cnn.evaluate(X2_test, y2_test)\n",
        "print(f\"Test Loss: {loss:.4f}\")\n",
        "print(f\"Test Accuracy: {accuracy:.4f}\")\n",
        "\n",
        "# Make predictions\n",
        "y2_pred = model_cnn.predict(X2_test)\n",
        "y2_pred = (y2_pred > 0.5).astype(int)  # Convert probabilities to binary predictions\n",
        "\n",
        "# Plot Training and Validation Loss and Accuracy\n",
        "plt.figure(figsize=(12, 6))\n",
        "\n",
        "# Loss Plot\n",
        "plt.subplot(1, 2, 1)\n",
        "plt.plot(history.history['loss'], label='Training Loss', color='blue')\n",
        "plt.plot(history.history['val_loss'], label='Validation Loss', color='orange')\n",
        "plt.title('Loss over Epochs')\n",
        "plt.xlabel('Epochs')\n",
        "plt.ylabel('Loss')\n",
        "plt.legend()\n",
        "\n",
        "# Accuracy Plot\n",
        "plt.subplot(1, 2, 2)\n",
        "plt.plot(history.history['accuracy'], label='Training Accuracy', color='blue')\n",
        "plt.plot(history.history['val_accuracy'], label='Validation Accuracy', color='orange')\n",
        "plt.title('Accuracy over Epochs')\n",
        "plt.xlabel('Epochs')\n",
        "plt.ylabel('Accuracy')\n",
        "plt.legend()\n",
        "\n",
        "# Display the plots\n",
        "plt.tight_layout()\n",
        "plt.show()"
      ],
      "metadata": {
        "id": "IWfGs6ePA9ZL",
        "colab": {
          "base_uri": "https://localhost:8080/",
          "height": 1000
        },
        "outputId": "11ee2d04-1909-4ff0-e892-7424aea8d8e8"
      },
      "execution_count": null,
      "outputs": [
        {
          "output_type": "stream",
          "name": "stdout",
          "text": [
            "Padding features: 20 -> 100\n",
            "Epoch 1/10\n"
          ]
        },
        {
          "output_type": "stream",
          "name": "stderr",
          "text": [
            "<ipython-input-13-3c5a0f370b54>:3: SettingWithCopyWarning: \n",
            "A value is trying to be set on a copy of a slice from a DataFrame.\n",
            "Try using .loc[row_indexer,col_indexer] = value instead\n",
            "\n",
            "See the caveats in the documentation: https://pandas.pydata.org/pandas-docs/stable/user_guide/indexing.html#returning-a-view-versus-a-copy\n",
            "  filtered_data1['Attack'] = encoder.fit_transform(filtered_data1['Attack'])  # \"Benign\" -> 0, \"DDoS\" -> 1\n",
            "/usr/local/lib/python3.11/dist-packages/keras/src/layers/convolutional/base_conv.py:113: UserWarning: Do not pass an `input_shape`/`input_dim` argument to a layer. When using Sequential models, prefer using an `Input(shape)` object as the first layer in the model instead.\n",
            "  super().__init__(activity_regularizer=activity_regularizer, **kwargs)\n"
          ]
        },
        {
          "output_type": "stream",
          "name": "stdout",
          "text": [
            "\u001b[1m1752/1752\u001b[0m \u001b[32m━━━━━━━━━━━━━━━━━━━━\u001b[0m\u001b[37m\u001b[0m \u001b[1m7s\u001b[0m 3ms/step - accuracy: 0.7922 - loss: 0.5396 - val_accuracy: 0.8006 - val_loss: 0.4937\n",
            "Epoch 2/10\n",
            "\u001b[1m1752/1752\u001b[0m \u001b[32m━━━━━━━━━━━━━━━━━━━━\u001b[0m\u001b[37m\u001b[0m \u001b[1m8s\u001b[0m 3ms/step - accuracy: 0.8035 - loss: 0.4883 - val_accuracy: 0.8006 - val_loss: 0.4890\n",
            "Epoch 3/10\n",
            "\u001b[1m1752/1752\u001b[0m \u001b[32m━━━━━━━━━━━━━━━━━━━━\u001b[0m\u001b[37m\u001b[0m \u001b[1m5s\u001b[0m 3ms/step - accuracy: 0.7998 - loss: 0.4880 - val_accuracy: 0.8006 - val_loss: 0.4822\n",
            "Epoch 4/10\n",
            "\u001b[1m1752/1752\u001b[0m \u001b[32m━━━━━━━━━━━━━━━━━━━━\u001b[0m\u001b[37m\u001b[0m \u001b[1m10s\u001b[0m 3ms/step - accuracy: 0.8034 - loss: 0.4754 - val_accuracy: 0.8006 - val_loss: 0.4745\n",
            "Epoch 5/10\n",
            "\u001b[1m1752/1752\u001b[0m \u001b[32m━━━━━━━━━━━━━━━━━━━━\u001b[0m\u001b[37m\u001b[0m \u001b[1m6s\u001b[0m 3ms/step - accuracy: 0.8022 - loss: 0.4670 - val_accuracy: 0.8006 - val_loss: 0.4632\n",
            "Epoch 6/10\n",
            "\u001b[1m1752/1752\u001b[0m \u001b[32m━━━━━━━━━━━━━━━━━━━━\u001b[0m\u001b[37m\u001b[0m \u001b[1m10s\u001b[0m 3ms/step - accuracy: 0.8030 - loss: 0.4571 - val_accuracy: 0.8006 - val_loss: 0.4552\n",
            "Epoch 7/10\n",
            "\u001b[1m1752/1752\u001b[0m \u001b[32m━━━━━━━━━━━━━━━━━━━━\u001b[0m\u001b[37m\u001b[0m \u001b[1m10s\u001b[0m 3ms/step - accuracy: 0.8019 - loss: 0.4495 - val_accuracy: 0.8005 - val_loss: 0.4465\n",
            "Epoch 8/10\n",
            "\u001b[1m1752/1752\u001b[0m \u001b[32m━━━━━━━━━━━━━━━━━━━━\u001b[0m\u001b[37m\u001b[0m \u001b[1m10s\u001b[0m 3ms/step - accuracy: 0.8043 - loss: 0.4376 - val_accuracy: 0.8008 - val_loss: 0.4375\n",
            "Epoch 9/10\n",
            "\u001b[1m1752/1752\u001b[0m \u001b[32m━━━━━━━━━━━━━━━━━━━━\u001b[0m\u001b[37m\u001b[0m \u001b[1m5s\u001b[0m 3ms/step - accuracy: 0.8029 - loss: 0.4294 - val_accuracy: 0.8000 - val_loss: 0.4281\n",
            "Epoch 10/10\n",
            "\u001b[1m1752/1752\u001b[0m \u001b[32m━━━━━━━━━━━━━━━━━━━━\u001b[0m\u001b[37m\u001b[0m \u001b[1m5s\u001b[0m 3ms/step - accuracy: 0.8047 - loss: 0.4166 - val_accuracy: 0.7980 - val_loss: 0.4174\n",
            "\u001b[1m438/438\u001b[0m \u001b[32m━━━━━━━━━━━━━━━━━━━━\u001b[0m\u001b[37m\u001b[0m \u001b[1m1s\u001b[0m 2ms/step - accuracy: 0.7981 - loss: 0.4146\n",
            "Test Loss: 0.4174\n",
            "Test Accuracy: 0.7980\n",
            "\u001b[1m438/438\u001b[0m \u001b[32m━━━━━━━━━━━━━━━━━━━━\u001b[0m\u001b[37m\u001b[0m \u001b[1m1s\u001b[0m 2ms/step\n"
          ]
        },
        {
          "output_type": "display_data",
          "data": {
            "text/plain": [
              "<Figure size 1200x600 with 2 Axes>"
            ],
            "image/png": "[encoded data removed]"
          },
          "metadata": {}
        }
      ]
    },
    {
      "cell_type": "markdown",
      "source": [
        "MLP (Dataset 3)"
      ],
      "metadata": {
        "id": "SeH1QNv3BUWo"
      }
    },
    {
      "cell_type": "code",
      "source": [
        "# Encode the target labels\n",
        "encoder = LabelEncoder()\n",
        "filtered_data3['Attack'] = encoder.fit_transform(filtered_data3['Attack'])  # \"Benign\" -> 0, \"DDoS\" -> 1\n",
        "\n",
        "# Split features (X) and target (y)\n",
        "X3, y3 = filtered_data3.drop(columns=['Attack']), filtered_data3['Attack']\n",
        "\n",
        "# Normalize the features\n",
        "scaler = MinMaxScaler()\n",
        "X3 = scaler.fit_transform(X3)\n",
        "\n",
        "# Split into training and testing sets\n",
        "X3_train, X3_test, y3_train, y3_test = train_test_split(X3, y3, test_size=0.2, random_state=42)\n",
        "\n",
        "# Define the number of features\n",
        "num_features = X3.shape[1]\n",
        "\n",
        "# Build the MLP model with correct input shape\n",
        "model_mlp = Sequential([\n",
        "    Dense(64, activation='relu', input_shape=(num_features,)),  # Adjust input shape here\n",
        "    Dense(32, activation='relu'),  # Optional additional layer\n",
        "    Dense(1, activation='sigmoid')  # Binary classification\n",
        "])\n",
        "\n",
        "# Compile the model\n",
        "model_mlp.compile(optimizer='adam', loss='binary_crossentropy', metrics=['accuracy'])\n",
        "\n",
        "# Train the MLP model\n",
        "history = model_mlp.fit(X3_train, y3_train, epochs=10, batch_size=32, validation_data=(X3_test, y3_test))\n",
        "\n",
        "# Evaluate the model\n",
        "loss, accuracy = model_mlp.evaluate(X3_test, y3_test)\n",
        "print(f\"Test Loss: {loss:.4f}\")\n",
        "print(f\"Test Accuracy: {accuracy:.4f}\")\n",
        "\n",
        "# Make predictions\n",
        "y3_pred = model_mlp.predict(X3_test)\n",
        "y3_pred = (y3_pred > 0.5).astype(int)  # Convert probabilities to binary predictions\n",
        "\n",
        "# Plot Training and Validation Loss and Accuracy\n",
        "plt.figure(figsize=(12, 6))\n",
        "\n",
        "# Loss Plot\n",
        "plt.subplot(1, 2, 1)\n",
        "plt.plot(history.history['loss'], label='Training Loss', color='blue')\n",
        "plt.plot(history.history['val_loss'], label='Validation Loss', color='orange')\n",
        "plt.title('Loss over Epochs')\n",
        "plt.xlabel('Epochs')\n",
        "plt.ylabel('Loss')\n",
        "plt.legend()\n",
        "\n",
        "# Accuracy Plot\n",
        "plt.subplot(1, 2, 2)\n",
        "plt.plot(history.history['accuracy'], label='Training Accuracy', color='blue')\n",
        "plt.plot(history.history['val_accuracy'], label='Validation Accuracy', color='orange')\n",
        "plt.title('Accuracy over Epochs')\n",
        "plt.xlabel('Epochs')\n",
        "plt.ylabel('Accuracy')\n",
        "plt.legend()\n",
        "\n",
        "# Display the plots\n",
        "plt.tight_layout()\n",
        "plt.show()"
      ],
      "metadata": {
        "id": "HW9reT6IBXVt",
        "colab": {
          "base_uri": "https://localhost:8080/",
          "height": 1000
        },
        "outputId": "e015ff4a-c6b6-4a57-f9ba-e96dfa0a32f3"
      },
      "execution_count": null,
      "outputs": [
        {
          "output_type": "stream",
          "name": "stderr",
          "text": [
            "<ipython-input-14-8ce8a8deb1c9>:3: SettingWithCopyWarning: \n",
            "A value is trying to be set on a copy of a slice from a DataFrame.\n",
            "Try using .loc[row_indexer,col_indexer] = value instead\n",
            "\n",
            "See the caveats in the documentation: https://pandas.pydata.org/pandas-docs/stable/user_guide/indexing.html#returning-a-view-versus-a-copy\n",
            "  filtered_data3['Attack'] = encoder.fit_transform(filtered_data3['Attack'])  # \"Benign\" -> 0, \"DDoS\" -> 1\n"
          ]
        },
        {
          "output_type": "stream",
          "name": "stdout",
          "text": [
            "Epoch 1/10\n"
          ]
        },
        {
          "output_type": "stream",
          "name": "stderr",
          "text": [
            "/usr/local/lib/python3.11/dist-packages/keras/src/layers/core/dense.py:93: UserWarning: Do not pass an `input_shape`/`input_dim` argument to a layer. When using Sequential models, prefer using an `Input(shape)` object as the first layer in the model instead.\n",
            "  super().__init__(activity_regularizer=activity_regularizer, **kwargs)\n"
          ]
        },
        {
          "output_type": "stream",
          "name": "stdout",
          "text": [
            "\u001b[1m9904/9904\u001b[0m \u001b[32m━━━━━━━━━━━━━━━━━━━━\u001b[0m\u001b[37m\u001b[0m \u001b[1m30s\u001b[0m 3ms/step - accuracy: 0.9999 - loss: 0.0200 - val_accuracy: 1.0000 - val_loss: 1.3484e-07\n",
            "Epoch 2/10\n",
            "\u001b[1m9904/9904\u001b[0m \u001b[32m━━━━━━━━━━━━━━━━━━━━\u001b[0m\u001b[37m\u001b[0m \u001b[1m28s\u001b[0m 3ms/step - accuracy: 1.0000 - loss: 5.7984e-08 - val_accuracy: 1.0000 - val_loss: 8.7654e-10\n",
            "Epoch 3/10\n",
            "\u001b[1m9904/9904\u001b[0m \u001b[32m━━━━━━━━━━━━━━━━━━━━\u001b[0m\u001b[37m\u001b[0m \u001b[1m40s\u001b[0m 3ms/step - accuracy: 1.0000 - loss: 5.3697e-10 - val_accuracy: 1.0000 - val_loss: 8.9585e-11\n",
            "Epoch 4/10\n",
            "\u001b[1m9904/9904\u001b[0m \u001b[32m━━━━━━━━━━━━━━━━━━━━\u001b[0m\u001b[37m\u001b[0m \u001b[1m41s\u001b[0m 3ms/step - accuracy: 1.0000 - loss: 7.2883e-11 - val_accuracy: 1.0000 - val_loss: 3.6495e-11\n",
            "Epoch 5/10\n",
            "\u001b[1m9904/9904\u001b[0m \u001b[32m━━━━━━━━━━━━━━━━━━━━\u001b[0m\u001b[37m\u001b[0m \u001b[1m27s\u001b[0m 3ms/step - accuracy: 1.0000 - loss: 3.6778e-11 - val_accuracy: 1.0000 - val_loss: 2.2812e-11\n",
            "Epoch 6/10\n",
            "\u001b[1m9904/9904\u001b[0m \u001b[32m━━━━━━━━━━━━━━━━━━━━\u001b[0m\u001b[37m\u001b[0m \u001b[1m41s\u001b[0m 3ms/step - accuracy: 1.0000 - loss: 2.2092e-11 - val_accuracy: 1.0000 - val_loss: 1.6498e-11\n",
            "Epoch 7/10\n",
            "\u001b[1m9904/9904\u001b[0m \u001b[32m━━━━━━━━━━━━━━━━━━━━\u001b[0m\u001b[37m\u001b[0m \u001b[1m41s\u001b[0m 3ms/step - accuracy: 1.0000 - loss: 1.7538e-11 - val_accuracy: 1.0000 - val_loss: 1.2892e-11\n",
            "Epoch 8/10\n",
            "\u001b[1m9904/9904\u001b[0m \u001b[32m━━━━━━━━━━━━━━━━━━━━\u001b[0m\u001b[37m\u001b[0m \u001b[1m27s\u001b[0m 3ms/step - accuracy: 1.0000 - loss: 1.3952e-11 - val_accuracy: 1.0000 - val_loss: 1.0560e-11\n",
            "Epoch 9/10\n",
            "\u001b[1m9904/9904\u001b[0m \u001b[32m━━━━━━━━━━━━━━━━━━━━\u001b[0m\u001b[37m\u001b[0m \u001b[1m27s\u001b[0m 3ms/step - accuracy: 1.0000 - loss: 1.0527e-11 - val_accuracy: 1.0000 - val_loss: 8.9517e-12\n",
            "Epoch 10/10\n",
            "\u001b[1m9904/9904\u001b[0m \u001b[32m━━━━━━━━━━━━━━━━━━━━\u001b[0m\u001b[37m\u001b[0m \u001b[1m27s\u001b[0m 3ms/step - accuracy: 1.0000 - loss: 9.8070e-12 - val_accuracy: 1.0000 - val_loss: 7.7656e-12\n",
            "\u001b[1m2476/2476\u001b[0m \u001b[32m━━━━━━━━━━━━━━━━━━━━\u001b[0m\u001b[37m\u001b[0m \u001b[1m5s\u001b[0m 2ms/step - accuracy: 1.0000 - loss: 7.8531e-12\n",
            "Test Loss: 0.0000\n",
            "Test Accuracy: 1.0000\n",
            "\u001b[1m2476/2476\u001b[0m \u001b[32m━━━━━━━━━━━━━━━━━━━━\u001b[0m\u001b[37m\u001b[0m \u001b[1m3s\u001b[0m 1ms/step\n"
          ]
        },
        {
          "output_type": "display_data",
          "data": {
            "text/plain": [
              "<Figure size 1200x600 with 2 Axes>"
            ],
            "image/png": "[encoded data removed]"
          },
          "metadata": {}
        }
      ]
    },
    {
      "cell_type": "code",
      "source": [
        "# Saving your models\n",
        "model_lstm.save('model_1.h5')  # Save RNN model as 'model_1.h5'\n",
        "model_cnn.save('model_2.h5')  # Save CNN model as 'model_2.h5'\n",
        "model_mlp.save('model_3.h5')  # Save MLP model as 'model_3.h5'"
      ],
      "metadata": {
        "id": "3uyF8ly4Bfqg",
        "colab": {
          "base_uri": "https://localhost:8080/"
        },
        "outputId": "6d3dc177-f4e1-4d6b-bfac-a133be2185d9"
      },
      "execution_count": null,
      "outputs": [
        {
          "output_type": "stream",
          "name": "stderr",
          "text": [
            "WARNING:absl:You are saving your model as an HDF5 file via `model.save()` or `keras.saving.save_model(model)`. This file format is considered legacy. We recommend using instead the native Keras format, e.g. `model.save('my_model.keras')` or `keras.saving.save_model(model, 'my_model.keras')`. \n",
            "WARNING:absl:You are saving your model as an HDF5 file via `model.save()` or `keras.saving.save_model(model)`. This file format is considered legacy. We recommend using instead the native Keras format, e.g. `model.save('my_model.keras')` or `keras.saving.save_model(model, 'my_model.keras')`. \n",
            "WARNING:absl:You are saving your model as an HDF5 file via `model.save()` or `keras.saving.save_model(model)`. This file format is considered legacy. We recommend using instead the native Keras format, e.g. `model.save('my_model.keras')` or `keras.saving.save_model(model, 'my_model.keras')`. \n"
          ]
        }
      ]
    },
    {
      "cell_type": "code",
      "source": [
        "from keras.models import load_model\n",
        "\n",
        "# Load the model\n",
        "model_cnn = load_model('/content/model_1.h5')\n",
        "model_rnn = load_model('/content/model_2.h5')\n",
        "model_mlp = load_model('/content/model_3.h5')\n",
        "\n",
        "# Get a summary of the model\n",
        "model_cnn.summary()\n",
        "model_rnn.summary()\n",
        "model_mlp.summary()"
      ],
      "metadata": {
        "id": "KzgUg8l1Bg_H",
        "colab": {
          "base_uri": "https://localhost:8080/",
          "height": 786
        },
        "outputId": "b2b1f7aa-7249-4d95-e4b2-a38eda98d870"
      },
      "execution_count": null,
      "outputs": [
        {
          "output_type": "stream",
          "name": "stderr",
          "text": [
            "WARNING:absl:Compiled the loaded model, but the compiled metrics have yet to be built. `model.compile_metrics` will be empty until you train or evaluate the model.\n",
            "WARNING:absl:Compiled the loaded model, but the compiled metrics have yet to be built. `model.compile_metrics` will be empty until you train or evaluate the model.\n",
            "WARNING:absl:Compiled the loaded model, but the compiled metrics have yet to be built. `model.compile_metrics` will be empty until you train or evaluate the model.\n"
          ]
        },
        {
          "output_type": "display_data",
          "data": {
            "text/plain": [
              "\u001b[1mModel: \"sequential\"\u001b[0m\n"
            ],
            "text/html": [
              "<pre style=\"white-space:pre;overflow-x:auto;line-height:normal;font-family:Menlo,'DejaVu Sans Mono',consolas,'Courier New',monospace\"><span style=\"font-weight: bold\">Model: \"sequential\"</span>\n",
              "</pre>\n"
            ]
          },
          "metadata": {}
        },
        {
          "output_type": "display_data",
          "data": {
            "text/plain": [
              "┏━━━━━━━━━━━━━━━━━━━━━━━━━━━━━━━━━┳━━━━━━━━━━━━━━━━━━━━━━━━┳━━━━━━━━━━━━━━━┓\n",
              "┃\u001b[1m \u001b[0m\u001b[1mLayer (type)                   \u001b[0m\u001b[1m \u001b[0m┃\u001b[1m \u001b[0m\u001b[1mOutput Shape          \u001b[0m\u001b[1m \u001b[0m┃\u001b[1m \u001b[0m\u001b[1m      Param #\u001b[0m\u001b[1m \u001b[0m┃\n",
              "┡━━━━━━━━━━━━━━━━━━━━━━━━━━━━━━━━━╇━━━━━━━━━━━━━━━━━━━━━━━━╇━━━━━━━━━━━━━━━┩\n",
              "│ lstm (\u001b[38;5;33mLSTM\u001b[0m)                     │ (\u001b[38;5;45mNone\u001b[0m, \u001b[38;5;34m64\u001b[0m)             │        \u001b[38;5;34m16,896\u001b[0m │\n",
              "├─────────────────────────────────┼────────────────────────┼───────────────┤\n",
              "│ dense (\u001b[38;5;33mDense\u001b[0m)                   │ (\u001b[38;5;45mNone\u001b[0m, \u001b[38;5;34m1\u001b[0m)              │            \u001b[38;5;34m65\u001b[0m │\n",
              "└─────────────────────────────────┴────────────────────────┴───────────────┘\n"
            ],
            "text/html": [
              "<pre style=\"white-space:pre;overflow-x:auto;line-height:normal;font-family:Menlo,'DejaVu Sans Mono',consolas,'Courier New',monospace\">┏━━━━━━━━━━━━━━━━━━━━━━━━━━━━━━━━━┳━━━━━━━━━━━━━━━━━━━━━━━━┳━━━━━━━━━━━━━━━┓\n",
              "┃<span style=\"font-weight: bold\"> Layer (type)                    </span>┃<span style=\"font-weight: bold\"> Output Shape           </span>┃<span style=\"font-weight: bold\">       Param # </span>┃\n",
              "┡━━━━━━━━━━━━━━━━━━━━━━━━━━━━━━━━━╇━━━━━━━━━━━━━━━━━━━━━━━━╇━━━━━━━━━━━━━━━┩\n",
              "│ lstm (<span style=\"color: #0087ff; text-decoration-color: #0087ff\">LSTM</span>)                     │ (<span style=\"color: #00d7ff; text-decoration-color: #00d7ff\">None</span>, <span style=\"color: #00af00; text-decoration-color: #00af00\">64</span>)             │        <span style=\"color: #00af00; text-decoration-color: #00af00\">16,896</span> │\n",
              "├─────────────────────────────────┼────────────────────────┼───────────────┤\n",
              "│ dense (<span style=\"color: #0087ff; text-decoration-color: #0087ff\">Dense</span>)                   │ (<span style=\"color: #00d7ff; text-decoration-color: #00d7ff\">None</span>, <span style=\"color: #00af00; text-decoration-color: #00af00\">1</span>)              │            <span style=\"color: #00af00; text-decoration-color: #00af00\">65</span> │\n",
              "└─────────────────────────────────┴────────────────────────┴───────────────┘\n",
              "</pre>\n"
            ]
          },
          "metadata": {}
        },
        {
          "output_type": "display_data",
          "data": {
            "text/plain": [
              "\u001b[1m Total params: \u001b[0m\u001b[38;5;34m16,963\u001b[0m (66.27 KB)\n"
            ],
            "text/html": [
              "<pre style=\"white-space:pre;overflow-x:auto;line-height:normal;font-family:Menlo,'DejaVu Sans Mono',consolas,'Courier New',monospace\"><span style=\"font-weight: bold\"> Total params: </span><span style=\"color: #00af00; text-decoration-color: #00af00\">16,963</span> (66.27 KB)\n",
              "</pre>\n"
            ]
          },
          "metadata": {}
        },
        {
          "output_type": "display_data",
          "data": {
            "text/plain": [
              "\u001b[1m Trainable params: \u001b[0m\u001b[38;5;34m16,961\u001b[0m (66.25 KB)\n"
            ],
            "text/html": [
              "<pre style=\"white-space:pre;overflow-x:auto;line-height:normal;font-family:Menlo,'DejaVu Sans Mono',consolas,'Courier New',monospace\"><span style=\"font-weight: bold\"> Trainable params: </span><span style=\"color: #00af00; text-decoration-color: #00af00\">16,961</span> (66.25 KB)\n",
              "</pre>\n"
            ]
          },
          "metadata": {}
        },
        {
          "output_type": "display_data",
          "data": {
            "text/plain": [
              "\u001b[1m Non-trainable params: \u001b[0m\u001b[38;5;34m0\u001b[0m (0.00 B)\n"
            ],
            "text/html": [
              "<pre style=\"white-space:pre;overflow-x:auto;line-height:normal;font-family:Menlo,'DejaVu Sans Mono',consolas,'Courier New',monospace\"><span style=\"font-weight: bold\"> Non-trainable params: </span><span style=\"color: #00af00; text-decoration-color: #00af00\">0</span> (0.00 B)\n",
              "</pre>\n"
            ]
          },
          "metadata": {}
        },
        {
          "output_type": "display_data",
          "data": {
            "text/plain": [
              "\u001b[1m Optimizer params: \u001b[0m\u001b[38;5;34m2\u001b[0m (12.00 B)\n"
            ],
            "text/html": [
              "<pre style=\"white-space:pre;overflow-x:auto;line-height:normal;font-family:Menlo,'DejaVu Sans Mono',consolas,'Courier New',monospace\"><span style=\"font-weight: bold\"> Optimizer params: </span><span style=\"color: #00af00; text-decoration-color: #00af00\">2</span> (12.00 B)\n",
              "</pre>\n"
            ]
          },
          "metadata": {}
        },
        {
          "output_type": "display_data",
          "data": {
            "text/plain": [
              "\u001b[1mModel: \"sequential_1\"\u001b[0m\n"
            ],
            "text/html": [
              "<pre style=\"white-space:pre;overflow-x:auto;line-height:normal;font-family:Menlo,'DejaVu Sans Mono',consolas,'Courier New',monospace\"><span style=\"font-weight: bold\">Model: \"sequential_1\"</span>\n",
              "</pre>\n"
            ]
          },
          "metadata": {}
        },
        {
          "output_type": "display_data",
          "data": {
            "text/plain": [
              "┏━━━━━━━━━━━━━━━━━━━━━━━━━━━━━━━━━┳━━━━━━━━━━━━━━━━━━━━━━━━┳━━━━━━━━━━━━━━━┓\n",
              "┃\u001b[1m \u001b[0m\u001b[1mLayer (type)                   \u001b[0m\u001b[1m \u001b[0m┃\u001b[1m \u001b[0m\u001b[1mOutput Shape          \u001b[0m\u001b[1m \u001b[0m┃\u001b[1m \u001b[0m\u001b[1m      Param #\u001b[0m\u001b[1m \u001b[0m┃\n",
              "┡━━━━━━━━━━━━━━━━━━━━━━━━━━━━━━━━━╇━━━━━━━━━━━━━━━━━━━━━━━━╇━━━━━━━━━━━━━━━┩\n",
              "│ conv3d (\u001b[38;5;33mConv3D\u001b[0m)                 │ (\u001b[38;5;45mNone\u001b[0m, \u001b[38;5;34m5\u001b[0m, \u001b[38;5;34m5\u001b[0m, \u001b[38;5;34m4\u001b[0m, \u001b[38;5;34m32\u001b[0m)    │            \u001b[38;5;34m64\u001b[0m │\n",
              "├─────────────────────────────────┼────────────────────────┼───────────────┤\n",
              "│ global_average_pooling3d        │ (\u001b[38;5;45mNone\u001b[0m, \u001b[38;5;34m32\u001b[0m)             │             \u001b[38;5;34m0\u001b[0m │\n",
              "│ (\u001b[38;5;33mGlobalAveragePooling3D\u001b[0m)        │                        │               │\n",
              "├─────────────────────────────────┼────────────────────────┼───────────────┤\n",
              "│ dense_1 (\u001b[38;5;33mDense\u001b[0m)                 │ (\u001b[38;5;45mNone\u001b[0m, \u001b[38;5;34m1\u001b[0m)              │            \u001b[38;5;34m33\u001b[0m │\n",
              "└─────────────────────────────────┴────────────────────────┴───────────────┘\n"
            ],
            "text/html": [
              "<pre style=\"white-space:pre;overflow-x:auto;line-height:normal;font-family:Menlo,'DejaVu Sans Mono',consolas,'Courier New',monospace\">┏━━━━━━━━━━━━━━━━━━━━━━━━━━━━━━━━━┳━━━━━━━━━━━━━━━━━━━━━━━━┳━━━━━━━━━━━━━━━┓\n",
              "┃<span style=\"font-weight: bold\"> Layer (type)                    </span>┃<span style=\"font-weight: bold\"> Output Shape           </span>┃<span style=\"font-weight: bold\">       Param # </span>┃\n",
              "┡━━━━━━━━━━━━━━━━━━━━━━━━━━━━━━━━━╇━━━━━━━━━━━━━━━━━━━━━━━━╇━━━━━━━━━━━━━━━┩\n",
              "│ conv3d (<span style=\"color: #0087ff; text-decoration-color: #0087ff\">Conv3D</span>)                 │ (<span style=\"color: #00d7ff; text-decoration-color: #00d7ff\">None</span>, <span style=\"color: #00af00; text-decoration-color: #00af00\">5</span>, <span style=\"color: #00af00; text-decoration-color: #00af00\">5</span>, <span style=\"color: #00af00; text-decoration-color: #00af00\">4</span>, <span style=\"color: #00af00; text-decoration-color: #00af00\">32</span>)    │            <span style=\"color: #00af00; text-decoration-color: #00af00\">64</span> │\n",
              "├─────────────────────────────────┼────────────────────────┼───────────────┤\n",
              "│ global_average_pooling3d        │ (<span style=\"color: #00d7ff; text-decoration-color: #00d7ff\">None</span>, <span style=\"color: #00af00; text-decoration-color: #00af00\">32</span>)             │             <span style=\"color: #00af00; text-decoration-color: #00af00\">0</span> │\n",
              "│ (<span style=\"color: #0087ff; text-decoration-color: #0087ff\">GlobalAveragePooling3D</span>)        │                        │               │\n",
              "├─────────────────────────────────┼────────────────────────┼───────────────┤\n",
              "│ dense_1 (<span style=\"color: #0087ff; text-decoration-color: #0087ff\">Dense</span>)                 │ (<span style=\"color: #00d7ff; text-decoration-color: #00d7ff\">None</span>, <span style=\"color: #00af00; text-decoration-color: #00af00\">1</span>)              │            <span style=\"color: #00af00; text-decoration-color: #00af00\">33</span> │\n",
              "└─────────────────────────────────┴────────────────────────┴───────────────┘\n",
              "</pre>\n"
            ]
          },
          "metadata": {}
        },
        {
          "output_type": "display_data",
          "data": {
            "text/plain": [
              "\u001b[1m Total params: \u001b[0m\u001b[38;5;34m99\u001b[0m (400.00 B)\n"
            ],
            "text/html": [
              "<pre style=\"white-space:pre;overflow-x:auto;line-height:normal;font-family:Menlo,'DejaVu Sans Mono',consolas,'Courier New',monospace\"><span style=\"font-weight: bold\"> Total params: </span><span style=\"color: #00af00; text-decoration-color: #00af00\">99</span> (400.00 B)\n",
              "</pre>\n"
            ]
          },
          "metadata": {}
        },
        {
          "output_type": "display_data",
          "data": {
            "text/plain": [
              "\u001b[1m Trainable params: \u001b[0m\u001b[38;5;34m97\u001b[0m (388.00 B)\n"
            ],
            "text/html": [
              "<pre style=\"white-space:pre;overflow-x:auto;line-height:normal;font-family:Menlo,'DejaVu Sans Mono',consolas,'Courier New',monospace\"><span style=\"font-weight: bold\"> Trainable params: </span><span style=\"color: #00af00; text-decoration-color: #00af00\">97</span> (388.00 B)\n",
              "</pre>\n"
            ]
          },
          "metadata": {}
        },
        {
          "output_type": "display_data",
          "data": {
            "text/plain": [
              "\u001b[1m Non-trainable params: \u001b[0m\u001b[38;5;34m0\u001b[0m (0.00 B)\n"
            ],
            "text/html": [
              "<pre style=\"white-space:pre;overflow-x:auto;line-height:normal;font-family:Menlo,'DejaVu Sans Mono',consolas,'Courier New',monospace\"><span style=\"font-weight: bold\"> Non-trainable params: </span><span style=\"color: #00af00; text-decoration-color: #00af00\">0</span> (0.00 B)\n",
              "</pre>\n"
            ]
          },
          "metadata": {}
        },
        {
          "output_type": "display_data",
          "data": {
            "text/plain": [
              "\u001b[1m Optimizer params: \u001b[0m\u001b[38;5;34m2\u001b[0m (12.00 B)\n"
            ],
            "text/html": [
              "<pre style=\"white-space:pre;overflow-x:auto;line-height:normal;font-family:Menlo,'DejaVu Sans Mono',consolas,'Courier New',monospace\"><span style=\"font-weight: bold\"> Optimizer params: </span><span style=\"color: #00af00; text-decoration-color: #00af00\">2</span> (12.00 B)\n",
              "</pre>\n"
            ]
          },
          "metadata": {}
        },
        {
          "output_type": "display_data",
          "data": {
            "text/plain": [
              "\u001b[1mModel: \"sequential_2\"\u001b[0m\n"
            ],
            "text/html": [
              "<pre style=\"white-space:pre;overflow-x:auto;line-height:normal;font-family:Menlo,'DejaVu Sans Mono',consolas,'Courier New',monospace\"><span style=\"font-weight: bold\">Model: \"sequential_2\"</span>\n",
              "</pre>\n"
            ]
          },
          "metadata": {}
        },
        {
          "output_type": "display_data",
          "data": {
            "text/plain": [
              "┏━━━━━━━━━━━━━━━━━━━━━━━━━━━━━━━━━┳━━━━━━━━━━━━━━━━━━━━━━━━┳━━━━━━━━━━━━━━━┓\n",
              "┃\u001b[1m \u001b[0m\u001b[1mLayer (type)                   \u001b[0m\u001b[1m \u001b[0m┃\u001b[1m \u001b[0m\u001b[1mOutput Shape          \u001b[0m\u001b[1m \u001b[0m┃\u001b[1m \u001b[0m\u001b[1m      Param #\u001b[0m\u001b[1m \u001b[0m┃\n",
              "┡━━━━━━━━━━━━━━━━━━━━━━━━━━━━━━━━━╇━━━━━━━━━━━━━━━━━━━━━━━━╇━━━━━━━━━━━━━━━┩\n",
              "│ dense_2 (\u001b[38;5;33mDense\u001b[0m)                 │ (\u001b[38;5;45mNone\u001b[0m, \u001b[38;5;34m64\u001b[0m)             │         \u001b[38;5;34m1,344\u001b[0m │\n",
              "├─────────────────────────────────┼────────────────────────┼───────────────┤\n",
              "│ dense_3 (\u001b[38;5;33mDense\u001b[0m)                 │ (\u001b[38;5;45mNone\u001b[0m, \u001b[38;5;34m32\u001b[0m)             │         \u001b[38;5;34m2,080\u001b[0m │\n",
              "├─────────────────────────────────┼────────────────────────┼───────────────┤\n",
              "│ dense_4 (\u001b[38;5;33mDense\u001b[0m)                 │ (\u001b[38;5;45mNone\u001b[0m, \u001b[38;5;34m1\u001b[0m)              │            \u001b[38;5;34m33\u001b[0m │\n",
              "└─────────────────────────────────┴────────────────────────┴───────────────┘\n"
            ],
            "text/html": [
              "<pre style=\"white-space:pre;overflow-x:auto;line-height:normal;font-family:Menlo,'DejaVu Sans Mono',consolas,'Courier New',monospace\">┏━━━━━━━━━━━━━━━━━━━━━━━━━━━━━━━━━┳━━━━━━━━━━━━━━━━━━━━━━━━┳━━━━━━━━━━━━━━━┓\n",
              "┃<span style=\"font-weight: bold\"> Layer (type)                    </span>┃<span style=\"font-weight: bold\"> Output Shape           </span>┃<span style=\"font-weight: bold\">       Param # </span>┃\n",
              "┡━━━━━━━━━━━━━━━━━━━━━━━━━━━━━━━━━╇━━━━━━━━━━━━━━━━━━━━━━━━╇━━━━━━━━━━━━━━━┩\n",
              "│ dense_2 (<span style=\"color: #0087ff; text-decoration-color: #0087ff\">Dense</span>)                 │ (<span style=\"color: #00d7ff; text-decoration-color: #00d7ff\">None</span>, <span style=\"color: #00af00; text-decoration-color: #00af00\">64</span>)             │         <span style=\"color: #00af00; text-decoration-color: #00af00\">1,344</span> │\n",
              "├─────────────────────────────────┼────────────────────────┼───────────────┤\n",
              "│ dense_3 (<span style=\"color: #0087ff; text-decoration-color: #0087ff\">Dense</span>)                 │ (<span style=\"color: #00d7ff; text-decoration-color: #00d7ff\">None</span>, <span style=\"color: #00af00; text-decoration-color: #00af00\">32</span>)             │         <span style=\"color: #00af00; text-decoration-color: #00af00\">2,080</span> │\n",
              "├─────────────────────────────────┼────────────────────────┼───────────────┤\n",
              "│ dense_4 (<span style=\"color: #0087ff; text-decoration-color: #0087ff\">Dense</span>)                 │ (<span style=\"color: #00d7ff; text-decoration-color: #00d7ff\">None</span>, <span style=\"color: #00af00; text-decoration-color: #00af00\">1</span>)              │            <span style=\"color: #00af00; text-decoration-color: #00af00\">33</span> │\n",
              "└─────────────────────────────────┴────────────────────────┴───────────────┘\n",
              "</pre>\n"
            ]
          },
          "metadata": {}
        },
        {
          "output_type": "display_data",
          "data": {
            "text/plain": [
              "\u001b[1m Total params: \u001b[0m\u001b[38;5;34m3,459\u001b[0m (13.52 KB)\n"
            ],
            "text/html": [
              "<pre style=\"white-space:pre;overflow-x:auto;line-height:normal;font-family:Menlo,'DejaVu Sans Mono',consolas,'Courier New',monospace\"><span style=\"font-weight: bold\"> Total params: </span><span style=\"color: #00af00; text-decoration-color: #00af00\">3,459</span> (13.52 KB)\n",
              "</pre>\n"
            ]
          },
          "metadata": {}
        },
        {
          "output_type": "display_data",
          "data": {
            "text/plain": [
              "\u001b[1m Trainable params: \u001b[0m\u001b[38;5;34m3,457\u001b[0m (13.50 KB)\n"
            ],
            "text/html": [
              "<pre style=\"white-space:pre;overflow-x:auto;line-height:normal;font-family:Menlo,'DejaVu Sans Mono',consolas,'Courier New',monospace\"><span style=\"font-weight: bold\"> Trainable params: </span><span style=\"color: #00af00; text-decoration-color: #00af00\">3,457</span> (13.50 KB)\n",
              "</pre>\n"
            ]
          },
          "metadata": {}
        },
        {
          "output_type": "display_data",
          "data": {
            "text/plain": [
              "\u001b[1m Non-trainable params: \u001b[0m\u001b[38;5;34m0\u001b[0m (0.00 B)\n"
            ],
            "text/html": [
              "<pre style=\"white-space:pre;overflow-x:auto;line-height:normal;font-family:Menlo,'DejaVu Sans Mono',consolas,'Courier New',monospace\"><span style=\"font-weight: bold\"> Non-trainable params: </span><span style=\"color: #00af00; text-decoration-color: #00af00\">0</span> (0.00 B)\n",
              "</pre>\n"
            ]
          },
          "metadata": {}
        },
        {
          "output_type": "display_data",
          "data": {
            "text/plain": [
              "\u001b[1m Optimizer params: \u001b[0m\u001b[38;5;34m2\u001b[0m (12.00 B)\n"
            ],
            "text/html": [
              "<pre style=\"white-space:pre;overflow-x:auto;line-height:normal;font-family:Menlo,'DejaVu Sans Mono',consolas,'Courier New',monospace\"><span style=\"font-weight: bold\"> Optimizer params: </span><span style=\"color: #00af00; text-decoration-color: #00af00\">2</span> (12.00 B)\n",
              "</pre>\n"
            ]
          },
          "metadata": {}
        }
      ]
    },
    {
      "cell_type": "markdown",
      "source": [
        "# **Ensamble Stacking**"
      ],
      "metadata": {
        "id": "vBSKEwMvBcWv"
      }
    },
    {
      "cell_type": "code",
      "source": [
        "import os\n",
        "import numpy as np\n",
        "from sklearn.datasets import make_blobs\n",
        "from sklearn.metrics import accuracy_score\n",
        "from keras.models import load_model\n",
        "from keras.utils import to_categorical, plot_model\n",
        "from keras.models import Model\n",
        "from keras.layers import Input, Dense, concatenate\n",
        "from numpy import argmax\n",
        "\n",
        "# Load all models\n",
        "def load_all_models():\n",
        "    models = []\n",
        "    models.append(load_model('/content/model_1.h5'))  # Load LSTM model\n",
        "    models.append(load_model('/content/model_2.h5'))  # Load CNN model\n",
        "    models.append(load_model('/content/model_3.h5'))  # Load MLP model\n",
        "    return models\n",
        "\n",
        "# Prepare inputs for stacking (reshape to match each model's input shape)\n",
        "def prepare_inputs(inputX, members):\n",
        "    reshaped_data = []\n",
        "    for model in members:\n",
        "        target_shape = model.input_shape[1:]  # Get the expected input shape (excluding batch size)\n",
        "        total_elements_per_sample = np.prod(target_shape)  # Calculate the total elements required per sample\n",
        "\n",
        "        # Check if reshaping is possible\n",
        "        if inputX.shape[1] != total_elements_per_sample:\n",
        "            if inputX.shape[1] < total_elements_per_sample:\n",
        "                # Pad with zeros if inputX has fewer elements\n",
        "                padding = total_elements_per_sample - inputX.shape[1]\n",
        "                reshaped_sample = np.pad(inputX, ((0, 0), (0, padding)), mode='constant')\n",
        "            else:\n",
        "                # Truncate if inputX has more elements\n",
        "                reshaped_sample = inputX[:, :total_elements_per_sample]\n",
        "        else:\n",
        "            reshaped_sample = inputX\n",
        "\n",
        "        # Reshape to match the target shape\n",
        "        reshaped_sample = reshaped_sample.reshape((-1,) + target_shape)\n",
        "        reshaped_data.append(reshaped_sample)\n",
        "    return reshaped_data\n",
        "\n",
        "# Define the stacked model\n",
        "def define_stacked_model(members):\n",
        "    inputs = []\n",
        "    outputs = []\n",
        "\n",
        "    for i, model in enumerate(members):\n",
        "        input_shape = model.input_shape[1:]  # 2D input shape\n",
        "        input_layer = Input(shape=input_shape, name=f'ensemble_input_{i + 1}')\n",
        "        inputs.append(input_layer)\n",
        "        outputs.append(model(input_layer))\n",
        "\n",
        "    # Combine outputs from all models\n",
        "    merged = concatenate(outputs, name='ensemble_merge')\n",
        "    hidden = Dense(10, activation='relu', name='ensemble_hidden')(merged)\n",
        "    output = Dense(3, activation='softmax', name='ensemble_output')(hidden)\n",
        "    stacked_model = Model(inputs=inputs, outputs=output)\n",
        "\n",
        "    # Save model plot\n",
        "    save_dir = '/content/models'\n",
        "    if not os.path.exists(save_dir):\n",
        "        os.makedirs(save_dir)\n",
        "    plot_model(stacked_model, show_shapes=True, to_file=os.path.join(save_dir, 'stacked_model_graph.png'))\n",
        "\n",
        "    stacked_model.compile(loss='categorical_crossentropy', optimizer='adam', metrics=['accuracy'])\n",
        "    return stacked_model\n",
        "\n",
        "# Fit the stacked model\n",
        "def fit_stacked_model(model, inputX, inputy, members):\n",
        "    # Ensure inputs and labels are prepared\n",
        "    X = prepare_inputs(inputX, members)\n",
        "    inputy_enc = to_categorical(inputy)\n",
        "\n",
        "    # Debugging: Check shapes\n",
        "    print(f\"Input shapes: {[x.shape for x in X]}\")\n",
        "    print(f\"Label shape: {inputy_enc.shape}\")\n",
        "\n",
        "    # Recompile the model to ensure metrics are initialized\n",
        "    model.compile(loss='categorical_crossentropy', optimizer='adam', metrics=['accuracy'])\n",
        "\n",
        "    # Train the model\n",
        "    model.fit(X, inputy_enc, epochs=300, verbose=0)\n",
        "\n",
        "# Make a prediction with the stacked model\n",
        "def predict_stacked_model(model, inputX, members):\n",
        "    X = prepare_inputs(inputX, members)\n",
        "    return model.predict(X, verbose=0)\n",
        "\n",
        "# Load dataset\n",
        "X, y = make_blobs(n_samples=1100, centers=3, n_features=2, cluster_std=2, random_state=2)  # 2D input\n",
        "n_train = 100\n",
        "trainX, testX = X[:n_train, :], X[n_train:, :]\n",
        "trainy, testy = y[:n_train], y[n_train:]\n",
        "print(trainX.shape, testX.shape)\n",
        "\n",
        "# Load models\n",
        "members = load_all_models()\n",
        "print(f'Loaded {len(members)} models')\n",
        "\n",
        "# Define the stacked model\n",
        "stacked_model = define_stacked_model(members)\n",
        "\n",
        "# Fit the stacked model\n",
        "fit_stacked_model(stacked_model, testX, testy, members)\n",
        "\n",
        "# Evaluate the stacked model\n",
        "yhat = predict_stacked_model(stacked_model, testX, members)\n",
        "yhat = argmax(yhat, axis=1)\n",
        "acc = accuracy_score(testy, yhat)\n",
        "print('Stacked Test Accuracy: %.3f' % acc)"
      ],
      "metadata": {
        "id": "vPdhiBmVBcGq",
        "colab": {
          "base_uri": "https://localhost:8080/"
        },
        "outputId": "9277a10d-2bdd-47c3-c86d-45c9113c46fa"
      },
      "execution_count": null,
      "outputs": [
        {
          "output_type": "stream",
          "name": "stderr",
          "text": [
            "WARNING:absl:Compiled the loaded model, but the compiled metrics have yet to be built. `model.compile_metrics` will be empty until you train or evaluate the model.\n",
            "WARNING:absl:Compiled the loaded model, but the compiled metrics have yet to be built. `model.compile_metrics` will be empty until you train or evaluate the model.\n",
            "WARNING:absl:Compiled the loaded model, but the compiled metrics have yet to be built. `model.compile_metrics` will be empty until you train or evaluate the model.\n"
          ]
        },
        {
          "output_type": "stream",
          "name": "stdout",
          "text": [
            "(100, 2) (1000, 2)\n",
            "Loaded 3 models\n",
            "Input shapes: [(1000, 20, 1), (1000, 5, 5, 4, 1), (1000, 20)]\n",
            "Label shape: (1000, 3)\n",
            "Stacked Test Accuracy: 0.836\n"
          ]
        }
      ]
    }
  ]
}